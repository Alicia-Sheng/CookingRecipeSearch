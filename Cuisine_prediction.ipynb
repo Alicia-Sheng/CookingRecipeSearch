{
 "cells": [
  {
   "cell_type": "code",
   "execution_count": null,
   "id": "a50247be",
   "metadata": {},
   "outputs": [],
   "source": [
    "from collections import defaultdict\n",
    "import numpy as np\n",
    "import pandas as pd\n",
    "import matplotlib.pyplot as plt\n",
    "from sklearn.ensemble import RandomForestClassifier\n",
    "from sklearn.ensemble import AdaBoostClassifier\n",
    "from sklearn.ensemble import GradientBoostingRegressor\n",
    "from sklearn.neighbors import KNeighborsClassifier\n",
    "from sklearn.tree import DecisionTreeRegressor\n",
    "from imblearn.ensemble import RUSBoostClassifier\n",
    "from sklearn.tree import DecisionTreeClassifier\n",
    "from sklearn.neural_network import MLPClassifier\n",
    "from sklearn.ensemble import VotingClassifier\n",
    "from sklearn.svm import SVC \n",
    "from sklearn.model_selection import KFold, train_test_split, cross_val_score, cross_val_predict, StratifiedKFold, RepeatedStratifiedKFold\n",
    "from sklearn.discriminant_analysis import LinearDiscriminantAnalysis\n",
    "from time import time\n",
    "from sklearn.model_selection import train_test_split\n",
    "import random\n",
    "import seaborn as sns\n",
    "from typing import List\n",
    "from statistics import mode"
   ]
  },
  {
   "cell_type": "code",
   "execution_count": null,
   "id": "bfc765fd",
   "metadata": {},
   "outputs": [],
   "source": [
    "names = [  \n",
    "#         'GradientBoostingRegressor',\n",
    "        'LDA',\n",
    "        'Nearest Neighbors',\n",
    "#         'AdaBoostClassifier',\n",
    "#         'RandomForest',\n",
    "#         \"Linear SVM\",\n",
    "        \"RBF SVM\",\n",
    "#         \"Decision Tree\",\n",
    "#         \"sLDA\",\n",
    "#         \"MLP\",\n",
    "#         'RUSBoost',\n",
    "        ]\n",
    "\n",
    "# build classifiers\n",
    "classifiers = [\n",
    "#             GradientBoostingRegressor(random_state=1),\n",
    "            LinearDiscriminantAnalysis(),\n",
    "            KNeighborsClassifier(n_neighbors=20),\n",
    "#             AdaBoostClassifier(n_estimators=400, learning_rate = 0.6),\n",
    "#             RandomForestClassifier(),\n",
    "#             SVC(kernel=\"linear\", C=0.025),\n",
    "            SVC(gamma=2, C=1),\n",
    "#             DecisionTreeClassifier(),\n",
    "#             LinearDiscriminantAnalysis(solver='lsqr', shrinkage='auto'),\n",
    "#             MLPClassifier(random_state=1, max_iter=300),\n",
    "#             RUSBoostClassifier(n_estimators = 200, random_state=1),\n",
    "              ]"
   ]
  },
  {
   "cell_type": "code",
   "execution_count": null,
   "id": "0de66d34",
   "metadata": {},
   "outputs": [],
   "source": [
    "df = pd.read_csv(\"data/embedded_whats_cooking/embedded_train.csv\")\n",
    "df"
   ]
  },
  {
   "cell_type": "code",
   "execution_count": null,
   "id": "0909d132",
   "metadata": {},
   "outputs": [],
   "source": [
    "y_labels = df[\"label\"].tolist()\n",
    "\n",
    "print(set(y_labels))\n",
    "\n",
    "print(len(set(y_labels)))\n",
    "\n",
    "label_dict = {}\n",
    "\n",
    "count = 0\n",
    "for ele in set(y_labels):\n",
    "    label_dict[ele] = count\n",
    "    count += 1\n",
    "print(\"=\"*20)\n",
    "print(label_dict)"
   ]
  },
  {
   "cell_type": "code",
   "execution_count": null,
   "id": "d3b6aed9",
   "metadata": {},
   "outputs": [],
   "source": [
    "encoded_labels = []\n",
    "for label in y_labels:\n",
    "    encoded_labels.append(label_dict[label])\n",
    "print(len(encoded_labels))\n",
    "print(encoded_labels[:20])"
   ]
  },
  {
   "cell_type": "code",
   "execution_count": null,
   "id": "ed23fbf4",
   "metadata": {},
   "outputs": [],
   "source": [
    "df[\"y\"] = encoded_labels\n",
    "df = df.drop(['label', 'id'], axis=1)\n",
    "cols = df.columns.tolist()\n",
    "cols = cols[-1:] + cols[:-1]\n",
    "df = df[cols]\n",
    "df"
   ]
  },
  {
   "cell_type": "code",
   "execution_count": null,
   "id": "d4f61858",
   "metadata": {},
   "outputs": [],
   "source": [
    "scoring = \"accuracy\"\n",
    "data = df.to_numpy()\n",
    "X = data[:, 1:]\n",
    "y = data[:, 0]\n",
    "\n",
    "score_dict = {}\n",
    "time_dict = {}\n",
    "models = zip(names, classifiers)\n",
    "\n",
    "for name, model in models:\n",
    "    print(\"The model running is: \" + name)\n",
    "    time_start = time()\n",
    "    kfold = RepeatedStratifiedKFold()\n",
    "    scores = cross_val_score(model, X, y, cv=kfold, scoring=scoring)\n",
    "    time_end = time()\n",
    "    score_dict[name] = scores.mean()\n",
    "    time_elapsed = time_end - time_start \n",
    "    time_dict[name] = time_elapsed\n",
    "    print(\"The average score of \" + name + \" is\", scores.mean(), \"with std of\", scores.std())\n",
    "    print(\"Time to run \" + name + \" is\", str(time_elapsed))\n",
    "    print(\"=\" * 20)\n",
    "  "
   ]
  },
  {
   "cell_type": "code",
   "execution_count": null,
   "id": "d7b0ca2c",
   "metadata": {},
   "outputs": [],
   "source": [
    "print(\"score_dict is\", score_dict)\n",
    "print(\"time_dict is\", time_dict)"
   ]
  },
  {
   "cell_type": "code",
   "execution_count": null,
   "id": "16d5b85b",
   "metadata": {},
   "outputs": [],
   "source": [
    "classifier_name = names\n",
    "accuracy_list = []\n",
    "time_list = []\n",
    "for name in classifier_name:\n",
    "    if name == 'RandomForest' or name == \"RBF SVM\":\n",
    "        continue\n",
    "    accuracy_list.append(score_dict[name])\n",
    "    time_list.append(time_dict[name])\n",
    "recording = {\"Accuracy\": accuracy_list, \"Runtime(s)\":time_list}"
   ]
  },
  {
   "cell_type": "code",
   "execution_count": null,
   "id": "c8a8df1a",
   "metadata": {},
   "outputs": [],
   "source": [
    "df_record = pd.DataFrame(recording, index = classifier_name)"
   ]
  },
  {
   "cell_type": "code",
   "execution_count": null,
   "id": "016f2a3c",
   "metadata": {},
   "outputs": [],
   "source": [
    "df_record.to_csv(\"output/classifiers_accuracy_runtime.csv\")"
   ]
  }
 ],
 "metadata": {
  "kernelspec": {
   "display_name": "Python 3",
   "language": "python",
   "name": "python3"
  },
  "language_info": {
   "codemirror_mode": {
    "name": "ipython",
    "version": 3
   },
   "file_extension": ".py",
   "mimetype": "text/x-python",
   "name": "python",
   "nbconvert_exporter": "python",
   "pygments_lexer": "ipython3",
   "version": "3.8.8"
  }
 },
 "nbformat": 4,
 "nbformat_minor": 5
}