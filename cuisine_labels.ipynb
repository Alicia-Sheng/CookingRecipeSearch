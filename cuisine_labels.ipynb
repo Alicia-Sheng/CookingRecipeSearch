{
 "cells": [
  {
   "cell_type": "code",
   "execution_count": null,
   "id": "104c6208",
   "metadata": {
    "pycharm": {
     "name": "#%%\n"
    }
   },
   "outputs": [],
   "source": [
    "from sklearn.svm import SVC \n",
    "import pandas as pd"
   ]
  },
  {
   "cell_type": "code",
   "execution_count": null,
   "id": "1b371378",
   "metadata": {
    "pycharm": {
     "name": "#%%\n"
    }
   },
   "outputs": [],
   "source": [
    "clf = SVC(kernel=\"linear\", C=0.025)"
   ]
  },
  {
   "cell_type": "code",
   "execution_count": null,
   "id": "b017bd03",
   "metadata": {
    "pycharm": {
     "name": "#%%\n"
    }
   },
   "outputs": [],
   "source": [
    "df = pd.read_csv(\"data/embedded_whats_cooking/embedded_train.csv\")\n",
    "y_labels = df[\"label\"].tolist()\n",
    "label_dict = {}\n",
    "\n",
    "count = 0\n",
    "for ele in set(y_labels):\n",
    "    label_dict[ele] = count\n",
    "    count += 1\n",
    "print(\"=\"*20)\n",
    "print(label_dict)"
   ]
  },
  {
   "cell_type": "code",
   "execution_count": null,
   "id": "e809e566",
   "metadata": {
    "pycharm": {
     "name": "#%%\n"
    }
   },
   "outputs": [],
   "source": [
    "encoded_labels = []\n",
    "for label in y_labels:\n",
    "    encoded_labels.append(label_dict[label])\n",
    "print(len(encoded_labels))\n",
    "print(encoded_labels[:20])"
   ]
  },
  {
   "cell_type": "code",
   "execution_count": null,
   "id": "48f9651a",
   "metadata": {
    "pycharm": {
     "name": "#%%\n"
    }
   },
   "outputs": [],
   "source": [
    "df[\"y\"] = encoded_labels\n",
    "df = df.drop(['label', 'id'], axis=1)\n",
    "cols = df.columns.tolist()\n",
    "cols = cols[-1:] + cols[:-1]\n",
    "df = df[cols]\n",
    "print(df)"
   ]
  },
  {
   "cell_type": "code",
   "execution_count": null,
   "id": "fbea9ec5",
   "metadata": {
    "pycharm": {
     "name": "#%%\n"
    }
   },
   "outputs": [],
   "source": [
    "data = df.to_numpy()\n",
    "X = data[:, 1:]\n",
    "y = data[:, 0]"
   ]
  },
  {
   "cell_type": "code",
   "execution_count": null,
   "id": "e2ee3429",
   "metadata": {
    "pycharm": {
     "name": "#%%\n"
    }
   },
   "outputs": [],
   "source": [
    "clf.fit(X, y)"
   ]
  },
  {
   "cell_type": "code",
   "execution_count": null,
   "id": "af131207",
   "metadata": {
    "pycharm": {
     "name": "#%%\n"
    }
   },
   "outputs": [],
   "source": [
    "x_test = pd.read_csv(\"data/embedded_recipe.csv\")\n",
    "ids = x_test[\"id\"]\n",
    "x_test = x_test.drop([\"id\"], axis=1)\n",
    "\n",
    "\n",
    "y_pred = clf.predict(x_test)\n",
    "print(len(y_pred))"
   ]
  },
  {
   "cell_type": "code",
   "execution_count": null,
   "id": "fa4f6739",
   "metadata": {
    "pycharm": {
     "name": "#%%\n"
    }
   },
   "outputs": [],
   "source": [
    "reverse_label_dict = {}\n",
    "for key,value in label_dict.items():\n",
    "    reverse_label_dict[value] = key\n",
    "print(reverse_label_dict)"
   ]
  },
  {
   "cell_type": "code",
   "execution_count": null,
   "id": "3e4845f7",
   "metadata": {
    "pycharm": {
     "name": "#%%\n"
    }
   },
   "outputs": [],
   "source": [
    "y_test_label = []\n",
    "for num in y_pred:\n",
    "    y_test_label.append(reverse_label_dict[num])\n",
    "print(y_test_label)"
   ]
  },
  {
   "cell_type": "code",
   "execution_count": null,
   "id": "d3bcab64",
   "metadata": {
    "pycharm": {
     "name": "#%%\n"
    }
   },
   "outputs": [],
   "source": [
    "recording = {\"SVM Predicted label\": y_test_label}\n",
    "df_record = pd.DataFrame(recording, index = ids)\n",
    "df_record.to_csv(\"output/SVM_predicted_label.csv\")"
   ]
  }
 ],
 "metadata": {
  "kernelspec": {
   "display_name": "Python 3",
   "language": "python",
   "name": "python3"
  },
  "language_info": {
   "codemirror_mode": {
    "name": "ipython",
    "version": 3
   },
   "file_extension": ".py",
   "mimetype": "text/x-python",
   "name": "python",
   "nbconvert_exporter": "python",
   "pygments_lexer": "ipython3",
   "version": "3.8.8"
  }
 },
 "nbformat": 4,
 "nbformat_minor": 5
}